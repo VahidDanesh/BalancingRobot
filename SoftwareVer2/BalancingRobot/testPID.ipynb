{
 "cells": [
  {
   "cell_type": "code",
   "execution_count": 32,
   "metadata": {},
   "outputs": [
    {
     "data": {
      "image/png": "[encoded data removed]",
      "text/plain": [
       "<Figure size 640x480 with 1 Axes>"
      ]
     },
     "metadata": {},
     "output_type": "display_data"
    }
   ],
   "source": [
    "class PIDController:  \n",
    "    def __init__(self, kp, ki, kd, setpoint=0):  \n",
    "        self.kp = kp  \n",
    "        self.ki = ki  \n",
    "        self.kd = kd  \n",
    "        self.setpoint = setpoint  \n",
    "        self.integral = 0  \n",
    "        self.previous_error = 0  \n",
    "\n",
    "    def update(self, measurement, dt):  \n",
    "        # Calculate error  \n",
    "        error = self.setpoint - measurement  \n",
    "\n",
    "        # Proportional term  \n",
    "        p = self.kp * error  \n",
    "\n",
    "        # Integral term  \n",
    "        self.integral += error * dt  \n",
    "        i = self.ki * self.integral  \n",
    "\n",
    "        # Derivative term  \n",
    "        derivative = (error - self.previous_error) / dt  \n",
    "        d = self.kd * derivative  \n",
    "\n",
    "        # Update previous error  \n",
    "        self.previous_error = error  \n",
    "\n",
    "        # Calculate control output  \n",
    "        output = p + i + d  \n",
    "        return output  \n",
    "\n",
    "def simulate_pid(total_time, steps, kp, ki, kd, initial_value, setpoint):  \n",
    "    # Create a PID controller instance  \n",
    "    pid = PIDController(kp, ki, kd, setpoint=setpoint)  \n",
    "\n",
    "    # Calculate time step  \n",
    "    dt = total_time / steps  \n",
    "\n",
    "    # Initialize the current value  \n",
    "    current_value_list = [initial_value]\n",
    "    current_value = initial_value  \n",
    "\n",
    "    # keep the control signal to plot\n",
    "    control_signal = []\n",
    "    # Simulation loop  \n",
    "    for step in range(steps):  \n",
    "        # Update the PID controller  \n",
    "        control_signal.append(pid.update(current_value, dt))  \n",
    "\n",
    "        # Apply the control signal\n",
    "        current_value += control_signal[step] * dt\n",
    "        current_value_list.append(current_value)\n",
    "    return current_value_list, control_signal\n",
    "\n",
    "\n",
    "\n",
    "        \n",
    "if __name__ == \"__main__\":  \n",
    "    # Simulation parameters  \n",
    "    total_time = 10.0  # Total simulation time in seconds  \n",
    "    steps = 100  # Number of simulation steps  \n",
    "\n",
    "    # PID coefficients  \n",
    "    kp = 5.0  \n",
    "    ki = 0.2  \n",
    "    kd = 0.2  \n",
    "\n",
    "    # Initial conditions  \n",
    "    initial_value = 0.2  # Initial measurement  \n",
    "    setpoint = 0  # Desired setpoint  \n",
    "\n",
    "    # Run the simulation  \n",
    "    current_value_list, control_signal = simulate_pid(total_time, steps, kp, ki, kd, initial_value, setpoint)  \n",
    "\n",
    "    # Plot the results\n",
    "    import matplotlib.pyplot as plt\n",
    "    plt.plot(current_value_list)\n",
    "    plt.plot(control_signal)\n",
    "    plt.show()\n"
   ]
  }
 ],
 "metadata": {
  "kernelspec": {
   "display_name": "esp",
   "language": "python",
   "name": "python3"
  },
  "language_info": {
   "codemirror_mode": {
    "name": "ipython",
    "version": 3
   },
   "file_extension": ".py",
   "mimetype": "text/x-python",
   "name": "python",
   "nbconvert_exporter": "python",
   "pygments_lexer": "ipython3",
   "version": "3.9.20"
  }
 },
 "nbformat": 4,
 "nbformat_minor": 2
}
